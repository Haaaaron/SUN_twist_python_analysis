{
 "cells": [
  {
   "cell_type": "code",
   "execution_count": null,
   "metadata": {},
   "outputs": [],
   "source": [
    "from modules import read_and_write\n",
    "import numpy as np"
   ]
  },
  {
   "cell_type": "code",
   "execution_count": null,
   "metadata": {},
   "outputs": [],
   "source": [
    "read_and_write.merge_two_filesets(\n",
    "                           source='../data/output-measure-surface/su4-44-44-64-6/beta-10.85-twist-1-small-smear-range-copy-2',\n",
    "                           target='../data/output-measure-surface/su4-44-44-64-6/beta-10.85-twist-1-small-smear-range-copy', )"
   ]
  },
  {
   "cell_type": "code",
   "execution_count": null,
   "metadata": {},
   "outputs": [],
   "source": [
    "x = np.linspace(24.92345, 24.9739, 5)\n",
    "for y in x:\n",
    "    print(f\"{y:.5f}\", end=' ')"
   ]
  },
  {
   "cell_type": "code",
   "execution_count": null,
   "metadata": {
    "vscode": {
     "languageId": "r"
    }
   },
   "outputs": [],
   "source": [
    "import matplotlib.pyplot as plt\n",
    "# Define the data from the table\n",
    "nodes = [1, 2, 4, 8]\n",
    "gh200_times = [103, 54, 29, 16]\n",
    "mi250x_times = [248, 138, 82, 55]\n",
    "\n",
    "# Compute the speedup\n",
    "gh200_speedup = [gh200_times[0] / t for t in gh200_times]\n",
    "mi250x_speedup = [mi250x_times[0] / t for t in mi250x_times]\n",
    "# Plot speedup for GH200 and MI250x\n",
    "plt.plot(nodes, gh200_speedup, marker='o', label='GH200')\n",
    "plt.plot(nodes, mi250x_speedup, marker='o', label='MI250x')\n",
    "\n",
    "# Plot optimal linear speedup\n",
    "plt.plot(nodes, nodes, linestyle='--', color='gray', label='Optimal Linear Speedup')\n",
    "\n",
    "# Plot minimum speedup (75% of optimal)\n",
    "min_speedup = [0.75 * n for n in nodes]\n",
    "plt.plot(nodes, min_speedup, linestyle='--', color='red', label='75% of Optimal Speedup')\n",
    "\n",
    "# Add labels, legend, and title\n",
    "plt.xlabel('Number of Nodes')\n",
    "plt.ylabel('Speedup')\n",
    "plt.title('Speedup vs Node Count')\n",
    "plt.legend()\n",
    "\n",
    "# Show the plot\n",
    "plt.grid(True)\n",
    "plt.show()"
   ]
  },
  {
   "cell_type": "code",
   "execution_count": null,
   "metadata": {},
   "outputs": [],
   "source": []
  }
 ],
 "metadata": {
  "kernelspec": {
   "display_name": "env",
   "language": "python",
   "name": "python3"
  },
  "language_info": {
   "codemirror_mode": {
    "name": "ipython",
    "version": 3
   },
   "file_extension": ".py",
   "mimetype": "text/x-python",
   "name": "python",
   "nbconvert_exporter": "python",
   "pygments_lexer": "ipython3",
   "version": "3.10.12"
  }
 },
 "nbformat": 4,
 "nbformat_minor": 2
}
