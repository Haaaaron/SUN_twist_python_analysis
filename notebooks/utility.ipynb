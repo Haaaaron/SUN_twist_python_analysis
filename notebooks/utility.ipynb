{
 "cells": [
  {
   "cell_type": "code",
   "execution_count": null,
   "metadata": {},
   "outputs": [
    {
     "ename": "ModuleNotFoundError",
     "evalue": "No module named 'modules'",
     "output_type": "error",
     "traceback": [
      "\u001b[0;31m---------------------------------------------------------------------------\u001b[0m",
      "\u001b[0;31mModuleNotFoundError\u001b[0m                       Traceback (most recent call last)",
      "Cell \u001b[0;32mIn[1], line 1\u001b[0m\n\u001b[0;32m----> 1\u001b[0m \u001b[38;5;28;01mfrom\u001b[39;00m \u001b[38;5;21;01mmodules\u001b[39;00m \u001b[38;5;28;01mimport\u001b[39;00m read_and_write\n\u001b[1;32m      2\u001b[0m \u001b[38;5;28;01mimport\u001b[39;00m \u001b[38;5;21;01mnumpy\u001b[39;00m \u001b[38;5;28;01mas\u001b[39;00m \u001b[38;5;21;01mnp\u001b[39;00m\n",
      "\u001b[0;31mModuleNotFoundError\u001b[0m: No module named 'modules'"
     ]
    }
   ],
   "source": [
    "from modules import read_and_write\n",
    "import numpy as np\n",
    "import matplotlib.pyplot as plt\n"
   ]
  },
  {
   "cell_type": "code",
   "execution_count": null,
   "metadata": {},
   "outputs": [],
   "source": [
    "read_and_write.merge_two_filesets(\n",
    "                           source='../data/output-measure-surface/su4-44-44-64-6/beta-10.85-twist-1-small-smear-range-copy-2',\n",
    "                           target='../data/output-measure-surface/su4-44-44-64-6/beta-10.85-twist-1-small-smear-range-copy', )"
   ]
  },
  {
   "cell_type": "code",
   "execution_count": null,
   "metadata": {},
   "outputs": [],
   "source": [
    "x = np.linspace(24.92345, 24.9739, 5)\n",
    "for y in x:\n",
    "    print(f\"{y:.5f}\", end=' ')"
   ]
  },
  {
   "cell_type": "code",
   "execution_count": null,
   "metadata": {},
   "outputs": [],
   "source": [
    "import matplotlib.pyplot as plt\n",
    "# Define the data from the table\n",
    "nodes = [1, 2, 4, 8]\n",
    "gh200_times = [103, 54, 29, 16]\n",
    "mi250x_times = [248, 138, 82, 55]\n",
    "\n",
    "# Compute the speedup\n",
    "gh200_speedup = [gh200_times[0] / t for t in gh200_times]\n",
    "mi250x_speedup = [mi250x_times[0] / t for t in mi250x_times]\n",
    "# Plot speedup for GH200 and MI250x\n",
    "plt.plot(nodes, gh200_speedup, marker='o', label='GH200')\n",
    "plt.plot(nodes, mi250x_speedup, marker='o', label='MI250x')\n",
    "\n",
    "# Plot optimal linear speedup\n",
    "plt.plot(nodes, nodes, linestyle='--', color='gray', label='Optimal Linear Speedup')\n",
    "\n",
    "# Plot minimum speedup (75% of optimal)\n",
    "min_speedup = [0.75 * n for n in nodes]\n",
    "plt.plot(nodes, min_speedup, linestyle='--', color='red', label='75% of Optimal Speedup')\n",
    "\n",
    "# Add labels, legend, and title\n",
    "plt.xlabel('Number of Nodes')\n",
    "plt.ylabel('Speedup')\n",
    "plt.title('Speedup vs Node Count')\n",
    "plt.legend()\n",
    "\n",
    "# Show the plot\n",
    "plt.grid(True)\n",
    "plt.show()"
   ]
  },
  {
   "cell_type": "code",
   "execution_count": null,
   "metadata": {
    "vscode": {
     "languageId": "r"
    }
   },
   "outputs": [],
   "source": [
    "# Define the complex numbers\n",
    "complex_numbers = [\n",
    "    0.0684142938215 - 0.00496440315862j, 0.0682185055796 + 0.000810119053853j, \n",
    "    0.0694011029722 + 0.00661024860249j, 0.073868151753 + 0.00417405829956j, \n",
    "    0.0721394833224 + 0.00429416053856j, 0.0718642873407 + 0.00375632599686j, \n",
    "    0.0784359264131 + 0.00211342903397j, 0.0734437418194 + 0.000614791285497j, \n",
    "    0.0738286991778 + 0.000895506623321j, 0.0780242560836 - 0.000496112831416j, \n",
    "    0.0772801390435 - 0.001171229551j, 0.0732423633783 - 0.00135277691893j, \n",
    "    0.0743149216644 - 0.00305731228377j, 0.073117685905 - 0.00318858469413j, \n",
    "    0.0710857382537 - 0.00417237029507j, 0.0677621712457 - 0.00293175113352j, \n",
    "    0.062597457447 + 0.000187180481182j, 0.0623974295681 + 7.8057200159e-05j, \n",
    "    0.0605373725643 - 0.000632405912228j, 0.0642546219088 + 0.000486937098263j, \n",
    "    0.0605186150722 - 0.00125831468429j, 0.0621460935381 - 0.000988352101356j, \n",
    "    0.0597905645107 - 0.00225224810906j, 0.0592023828709 - 0.00171954337338j, \n",
    "    0.0573310762744 - 0.00303370753266j, 0.0571918091142 - 0.00344261003989j, \n",
    "    0.0540486786498 - 0.00484027266742j, 0.0541789068001 - 0.00439932840285j, \n",
    "    0.0483073977759 - 0.00216115842522j, 0.0428835073775 - 0.000322225231755j, \n",
    "    0.0424602006654 + 0.000468994595025j, 0.0436422918002 + 9.39556529336e-06j, \n",
    "    0.0423949842049 + 3.97305809877e-05j, 0.042897774889 + 0.000754535024029j, \n",
    "    0.0434595208986 - 7.97829972241e-05j, 0.0443261978125 - 0.000130017169143j, \n",
    "    0.0414623264865 - 9.05965848354e-05j, 0.0433579550891 - 0.000240948988557j, \n",
    "    0.0414411307388 + 0.000428856677621j, 0.0421851854416 - 0.000156026061912j, \n",
    "    0.0420053800793 + 0.000275965207223j, 0.0427410553508 - 0.000561923600493j, \n",
    "    0.0419020348614 + 0.000478297613562j, 0.0408989315117 + 0.000231608016953j, \n",
    "    0.0425039431365 + 0.00030772158876j, 0.0416884338493 - 9.73980432021e-05j, \n",
    "    0.0425477772052 - 0.000457490221971j, 0.04267466856 + 0.000149875507979j, \n",
    "    0.0516683968847 - 0.00424182634435j, 0.0487222573715 - 0.00195334796629j, \n",
    "    0.0505754702061 + 0.00734060036711j, 0.0521235341065 + 0.00523548352401j, \n",
    "    0.0528910966439 + 0.00417107917705j, 0.053996350975 + 0.00394556679262j, \n",
    "    0.0569841789095 + 0.00213729341207j, 0.0553855663144 + 0.0019787774561j, \n",
    "    0.0573225455597 + 0.00113161831778j, 0.0585446259927 + 0.000991178949239j, \n",
    "    0.0590712822303 + 0.000957860654205j, 0.0600000260868 + 0.00183647640351j, \n",
    "    0.0584398526512 + 0.000904430447094j\n",
    "]\n",
    "\n",
    "# Extract real and imaginary parts\n",
    "real_parts = [z.real for z in complex_numbers]\n",
    "imag_parts = [z.imag for z in complex_numbers]\n",
    "\n",
    "# Plot the complex numbers\n",
    "plt.figure(figsize=(8, 6))\n",
    "plt.scatter(real_parts, imag_parts, color='blue', label='Complex Numbers')\n",
    "plt.axhline(0, color='black', linewidth=0.5, linestyle='--')\n",
    "plt.axvline(0, color='black', linewidth=0.5, linestyle='--')\n",
    "plt.title('Complex Numbers in the Complex Plane')\n",
    "plt.xlabel('Real Part')\n",
    "plt.ylabel('Imaginary Part')\n",
    "plt.grid(True)\n",
    "plt.legend()\n",
    "plt.show()"
   ]
  },
  {
   "cell_type": "code",
   "execution_count": null,
   "metadata": {},
   "outputs": [],
   "source": []
  }
 ],
 "metadata": {
  "kernelspec": {
   "display_name": "sun-env",
   "language": "python",
   "name": "python3"
  },
  "language_info": {
   "codemirror_mode": {
    "name": "ipython",
    "version": 3
   },
   "file_extension": ".py",
   "mimetype": "text/x-python",
   "name": "python",
   "nbconvert_exporter": "python",
   "pygments_lexer": "ipython3",
   "version": "3.12.3"
  }
 },
 "nbformat": 4,
 "nbformat_minor": 2
}
