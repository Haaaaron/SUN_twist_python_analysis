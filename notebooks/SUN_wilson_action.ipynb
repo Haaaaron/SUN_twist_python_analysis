{
 "cells": [
  {
   "cell_type": "code",
   "execution_count": 3,
   "metadata": {},
   "outputs": [],
   "source": [
    "%load_ext autoreload\n",
    "%autoreload 2\n",
    "from modules import read_and_write\n",
    "from modules import wilson_action\n",
    "from modules import utility\n",
    "import pandas as pd\n",
    "from matplotlib_inline.backend_inline import set_matplotlib_formats\n",
    "set_matplotlib_formats('svg')"
   ]
  },
  {
   "cell_type": "markdown",
   "metadata": {},
   "source": [
    "SU3"
   ]
  },
  {
   "cell_type": "code",
   "execution_count": 24,
   "metadata": {},
   "outputs": [],
   "source": [
    "plaquette_data_twist_0 = read_and_write.load_from_folder(\"./output_sun3/notwist_joined_more\",\"plaquette:\", \"real\")\n",
    "plaquette_data_twist_1 = read_and_write.load_from_folder(\"./output_sun3/twist_joined_more\",\"plaquette:\", \"real\")\n"
   ]
  },
  {
   "cell_type": "code",
   "execution_count": 58,
   "metadata": {},
   "outputs": [],
   "source": [
    "plaquette_data_twist_0 = read_and_write.load_from_folder(\"./output_sun3/8_8_40_2/output_twist_0\",\"plaquette:\", \"real\")\n",
    "plaquette_data_twist_1 = read_and_write.load_from_folder(\"./output_sun3/8_8_40_2/output_twist_1\",\"plaquette:\", \"real\")"
   ]
  },
  {
   "cell_type": "code",
   "execution_count": 16,
   "metadata": {},
   "outputs": [],
   "source": [
    "plaquette_data_twist_0 = read_and_write.load_from_folder(\"./output_sun3/show_action_surface_notwist\",\"plaquette:\", \"real\")\n",
    "plaquette_data_twist_1 = read_and_write.load_from_folder(\"./output_sun3/show_action_surface_twist\",\"plaquette:\", \"real\")"
   ]
  },
  {
   "cell_type": "markdown",
   "metadata": {},
   "source": [
    "## SU4 t=2\n",
    "\n",
    "Takes about 1 minute to load the data"
   ]
  },
  {
   "cell_type": "code",
   "execution_count": null,
   "metadata": {},
   "outputs": [],
   "source": [
    "plaquette_data_twist_0 = read_and_write.load_from_folder(\"./output_sun4/traj_120000_t2/output-9.5-10.5/output_twist_0\",\"plaquette:\", \"real\")\n",
    "plaquette_data_twist_1 = read_and_write.load_from_folder(\"./output_sun4/traj_120000_t2/output-9.5-10.5/output_twist_1\",\"plaquette:\", \"real\")\n",
    "plaquette_data_twist_2 = read_and_write.load_from_folder(\"./output_sun4/traj_120000_t2/output-9.5-10.5/output_twist_2\",\"plaquette:\", \"real\")"
   ]
  },
  {
   "cell_type": "markdown",
   "metadata": {},
   "source": [
    "## SU4 t=4\n",
    "\n",
    "Takes about 1 minute to load the data"
   ]
  },
  {
   "cell_type": "code",
   "execution_count": null,
   "metadata": {},
   "outputs": [],
   "source": [
    "plaquette_data_twist_0 = read_and_write.load_from_folder(\"./output_sun4/traj_120000_t4/output-joined/output_twist_0\",\"plaquette:\", \"real\")\n",
    "plaquette_data_twist_1 = read_and_write.load_from_folder(\"./output_sun4/traj_120000_t4/output-joined/output_twist_1\",\"plaquette:\", \"real\")\n",
    "plaquette_data_twist_2 = read_and_write.load_from_folder(\"./output_sun4/traj_120000_t4/output-joined/output_twist_2\",\"plaquette:\", \"real\")"
   ]
  },
  {
   "cell_type": "markdown",
   "metadata": {},
   "source": [
    "# SU4 t=6 24,24,36,6"
   ]
  },
  {
   "cell_type": "code",
   "execution_count": null,
   "metadata": {},
   "outputs": [],
   "source": [
    "plaquette_data_twist_0 = read_and_write.load_from_folder(\"./output_sun4/traj_120000_t6/su4_phase_transition/output_twist_0\",\"plaquette:\", \"real\")\n",
    "plaquette_data_twist_1 = read_and_write.load_from_folder(\"./output_sun4/traj_120000_t6/su4_phase_transition/output_twist_1\",\"plaquette:\", \"real\")\n",
    "plaquette_data_twist_2 = read_and_write.load_from_folder(\"./output_sun4/traj_120000_t6/su4_phase_transition/output_twist_2\",\"plaquette:\", \"real\")"
   ]
  },
  {
   "cell_type": "markdown",
   "metadata": {},
   "source": [
    "# SU4 t=6 DIM 32,32,48,6"
   ]
  },
  {
   "cell_type": "code",
   "execution_count": 1,
   "metadata": {},
   "outputs": [
    {
     "ename": "NameError",
     "evalue": "name 'read_and_write' is not defined",
     "output_type": "error",
     "traceback": [
      "\u001b[0;31m---------------------------------------------------------------------------\u001b[0m",
      "\u001b[0;31mNameError\u001b[0m                                 Traceback (most recent call last)",
      "Cell \u001b[0;32mIn[1], line 1\u001b[0m\n\u001b[0;32m----> 1\u001b[0m plaquette_data_twist_0 \u001b[38;5;241m=\u001b[39m \u001b[43mread_and_write\u001b[49m\u001b[38;5;241m.\u001b[39mload_from_folder(\u001b[38;5;124m\"\u001b[39m\u001b[38;5;124m./output_sun4/traj_12000_3232486/output_twist_0\u001b[39m\u001b[38;5;124m\"\u001b[39m,\u001b[38;5;124m\"\u001b[39m\u001b[38;5;124mplaquette:\u001b[39m\u001b[38;5;124m\"\u001b[39m, \u001b[38;5;124m\"\u001b[39m\u001b[38;5;124mreal\u001b[39m\u001b[38;5;124m\"\u001b[39m)\n\u001b[1;32m      2\u001b[0m plaquette_data_twist_1 \u001b[38;5;241m=\u001b[39m read_and_write\u001b[38;5;241m.\u001b[39mload_from_folder(\u001b[38;5;124m\"\u001b[39m\u001b[38;5;124m./output_sun4/traj_12000_3232486/output_twist_1\u001b[39m\u001b[38;5;124m\"\u001b[39m,\u001b[38;5;124m\"\u001b[39m\u001b[38;5;124mplaquette:\u001b[39m\u001b[38;5;124m\"\u001b[39m, \u001b[38;5;124m\"\u001b[39m\u001b[38;5;124mreal\u001b[39m\u001b[38;5;124m\"\u001b[39m)\n\u001b[1;32m      3\u001b[0m \u001b[38;5;66;03m#plaquette_data_twist_2 = read_and_write.load_from_folder(\"./output_sun4/traj_12000_3030486/output_twist_1\",\"plaquette:\", \"real\")\u001b[39;00m\n",
      "\u001b[0;31mNameError\u001b[0m: name 'read_and_write' is not defined"
     ]
    }
   ],
   "source": [
    "plaquette_data_twist_0 = read_and_write.load_from_folder(\"./output_sun4/traj_12000_3232486/output_twist_0\",\"plaquette:\", \"real\")\n",
    "plaquette_data_twist_1 = read_and_write.load_from_folder(\"./output_sun4/traj_12000_3232486/output_twist_1\",\"plaquette:\", \"real\")\n",
    "#plaquette_data_twist_2 = read_and_write.load_from_folder(\"./output_sun4/traj_12000_3030486/output_twist_1\",\"plaquette:\", \"real\")"
   ]
  },
  {
   "cell_type": "markdown",
   "metadata": {},
   "source": [
    "# SU4 t=6 DIM 18,18,28,6"
   ]
  },
  {
   "cell_type": "code",
   "execution_count": null,
   "metadata": {},
   "outputs": [],
   "source": [
    "plaquette_data_twist_0 = read_and_write.load_from_folder(\"./output_sun4/traj_12000_1818286/output_twist_0\",\"plaquette:\", \"real\")\n",
    "plaquette_data_twist_1 = read_and_write.load_from_folder(\"./output_sun4/traj_12000_1818286/output_twist_1\",\"plaquette:\", \"real\")"
   ]
  },
  {
   "cell_type": "markdown",
   "metadata": {},
   "source": [
    "# SU4 t=6 DIM 44,44,64,6"
   ]
  },
  {
   "cell_type": "code",
   "execution_count": 10,
   "metadata": {},
   "outputs": [],
   "source": [
    "plaquette_data_twist_0 = read_and_write.load_from_folder(\"./output_sun4/traj_12000_444464/output_twist_0\",\"plaquette:\", \"real\")\n",
    "plaquette_data_twist_1 = read_and_write.load_from_folder(\"./output_sun4/traj_12000_444464/output_twist_1\",\"plaquette:\", \"real\")\n",
    "plaquette_data_twist_2 = read_and_write.load_from_folder(\"./output_sun4/traj_12000_444464/output_twist_2\",\"plaquette:\", \"real\")"
   ]
  },
  {
   "cell_type": "code",
   "execution_count": null,
   "metadata": {},
   "outputs": [],
   "source": [
    "plaquette_data_twist_0 = read_and_write.load_from_folder(\"./output_sun4/traj_120000_combinde_444464/output_twist_0\",\"plaquette:\", \"real\")\n",
    "plaquette_data_twist_1 = read_and_write.load_from_folder(\"./output_sun4/traj_120000_combinde_444464/output_twist_1\",\"plaquette:\", \"real\")\n",
    "plaquette_data_twist_2 = read_and_write.load_from_folder(\"./output_sun4/traj_120000_combinde_444464/output_twist_2\",\"plaquette:\", \"real\")"
   ]
  },
  {
   "cell_type": "markdown",
   "metadata": {},
   "source": [
    "# SU4 t=6 DIM 32, 32, 48 autocorrelation time "
   ]
  },
  {
   "cell_type": "code",
   "execution_count": null,
   "metadata": {},
   "outputs": [],
   "source": [
    "plaquette_data_twist_0 = read_and_write.load_from_folder(\"./output_sun4/correlation_time/output_twist_0\",\"plaquette:\", \"real\")\n",
    "plaquette_data_twist_1 = read_and_write.load_from_folder(\"./output_sun4/correlation_time/output_twist_1\",\"plaquette:\", \"real\")"
   ]
  },
  {
   "cell_type": "markdown",
   "metadata": {},
   "source": [
    "# SU4 t=6 DIM 18, 18, 28 autocorrelation time "
   ]
  },
  {
   "cell_type": "code",
   "execution_count": null,
   "metadata": {},
   "outputs": [],
   "source": [
    "plaquette_data_twist_0 = read_and_write.load_from_folder(\"./output_sun4/correlation_time/output_twist_0_18_18_28\",\"plaquette:\", \"real\")\n",
    "plaquette_data_twist_1 = read_and_write.load_from_folder(\"./output_sun4/correlation_time/output_twist_1_18_18_28\",\"plaquette:\", \"real\")"
   ]
  },
  {
   "cell_type": "code",
   "execution_count": null,
   "metadata": {},
   "outputs": [],
   "source": [
    "plaquette_data_twist_0 = read_and_write.load_from_folder(\"./output_sun3/misc/6_6_24_2_su3_10000traj\",\"plaquette:\", \"real\")"
   ]
  },
  {
   "cell_type": "code",
   "execution_count": 17,
   "metadata": {},
   "outputs": [],
   "source": [
    "plaquette_data_0 = utility.sort_plaquette_dict(plaquette_data_twist_0)\n",
    "plaquette_data_1 = utility.sort_plaquette_dict(plaquette_data_twist_1)\n",
    "#plaquette_data_2 = utility.sort_plaquette_dict(plaquette_data_twist_2)\n",
    "#plaquette_data_0 = utility.select_subset(plaquette_data_0, -5,-1)\n",
    "#plaquette_data_1 = utility.select_subset(plaquette_data_1, -5,-1)\n",
    "#plaquette_data_2 = utility.select_subset(plaquette_data_2, 0,21)\n",
    "#plaquette_data_0\n"
   ]
  },
  {
   "cell_type": "markdown",
   "metadata": {},
   "source": [
    "# Computing average wilson action dependent on temperature $\\beta$\n",
    "\n",
    "$< S > = \\beta \\sum_{dir_1 < dir_2} \\sum_{X} \\frac{1}{N} \\Re Tr[1 - U_{dir_1,dir_2}(X)] \\approx N*6\\frac{1}{N} \\Re Tr[1 - U_{dir_1,dir_2}(X)]$"
   ]
  },
  {
   "cell_type": "code",
   "execution_count": null,
   "metadata": {},
   "outputs": [],
   "source": [
    "wilson_action.create_average_action_figure(plaquette_data_0,\"notwist\",plaquette_data_1,\"twist\",thermalization=1000)"
   ]
  },
  {
   "cell_type": "code",
   "execution_count": null,
   "metadata": {},
   "outputs": [],
   "source": [
    "wilson_action.create_z_index_heat_map(plaquette_data_0,mean=False,series_range=(5000,7000))"
   ]
  },
  {
   "cell_type": "code",
   "execution_count": null,
   "metadata": {},
   "outputs": [],
   "source": [
    "wilson_action.create_z_index_heat_map(plaquette_data_1,mean=False,series_range=(5000,7000))"
   ]
  },
  {
   "cell_type": "code",
   "execution_count": 26,
   "metadata": {},
   "outputs": [],
   "source": [
    "errors_notwist = utility.compute_with_aa(plaquette_data_twist_0)\n",
    "errors_twist = utility.compute_with_aa(plaquette_data_twist_1)\n",
    "\n",
    "# sum_errors_twist = {}\n",
    "# sum_errors_notwist = {}\n",
    "\n",
    "# for key,value in errors_twist.items():\n",
    "    # sum_errors_twist[key] = errors_twist[key][\"error\"].iloc[-1]\n",
    "\n",
    "# for key,value in errors_notwist.items():\n",
    "    # sum_errors_notwist[key] = errors_notwist[key][\"error\"].iloc[-1]"
   ]
  },
  {
   "cell_type": "code",
   "execution_count": null,
   "metadata": {},
   "outputs": [],
   "source": [
    "# sum_errors_twist = {}\n",
    "# sum_errors_notwist = {}\n",
    "\n",
    "# for key,value in errors_twist.items():\n",
    "    # sum_errors_twist[key] = errors_twist[key][\"error\"].iloc[-1]\n",
    "\n",
    "# for key,value in errors_notwist.items():\n",
    "    # sum_errors_notwist[key] = errors_notwist[key][\"error\"].iloc[-1]\n",
    "cov = utility.compute_covariance(plaquette_data_twist_0,plaquette_data_twist_1)"
   ]
  },
  {
   "cell_type": "code",
   "execution_count": null,
   "metadata": {},
   "outputs": [],
   "source": [
    "wilson_action.create_average_action_figure(plaquette_data_twist_0,\"no twist\",plaquette_data_twist_1,\"twist\",errors_notwist, errors_twist)"
   ]
  },
  {
   "cell_type": "code",
   "execution_count": null,
   "metadata": {},
   "outputs": [],
   "source": [
    "wilson_action.create_average_action_figure_difference(plaquette_data_twist_0,\"no twist\",plaquette_data_twist_1,\"twist\",errors_notwist, errors_twist)"
   ]
  },
  {
   "cell_type": "markdown",
   "metadata": {},
   "source": [
    "# Jackknife method\n",
    "\n",
    "- su4 t2 takes around 3 minutes"
   ]
  },
  {
   "cell_type": "code",
   "execution_count": null,
   "metadata": {},
   "outputs": [],
   "source": [
    "jackknife_0 = utility.compute_with_aa_jackknife(plaquette_data_0,column=20,bins=20)\n",
    "#jackknife_1 = utility.compute_with_aa_jackknife(plaquette_data_1,column=37,bins=20)\n",
    "#jackknife_2 = utility.compute_with_aa_jackknife(plaquette_data_2,column=37,bins=20)\n",
    "jackknife_0"
   ]
  },
  {
   "cell_type": "code",
   "execution_count": null,
   "metadata": {},
   "outputs": [],
   "source": [
    "jackknife_func_0 = utility.construct_jackknife_functions(jackknife_0)\n",
    "#jackknife_func_1 = utility.construct_jackknife_functions(jackknife_1)\n",
    "#jackknife_func_2 = utility.construct_jackknife_functions(jackknife_2)"
   ]
  },
  {
   "cell_type": "code",
   "execution_count": null,
   "metadata": {},
   "outputs": [],
   "source": [
    "wilson_action.create_average_action_figure_jackknife(jackknife_func_0,\"notwist\",jackknife_func_1,\"twist\",plot_fmt=\"-o\",fig_text=\"Twist coefficients 0 and 1. N=20 Jackknife bins\")"
   ]
  },
  {
   "cell_type": "code",
   "execution_count": null,
   "metadata": {},
   "outputs": [],
   "source": [
    "wilson_action.create_twist_notwist_difference_figure_jackknife(jackknife_func_0,jackknife_func_1,plot_fmt=\"-\",fig_text=\"Twist coefficients 0 and 1. N=20 Jackknife bins\")"
   ]
  },
  {
   "cell_type": "code",
   "execution_count": null,
   "metadata": {},
   "outputs": [],
   "source": [
    "wilson_action.create_integral_figure_jackknife(jackknife_func_0,jackknife_func_1,N=20,plot_fmt=\"-\",fig_text=\"Twist coefficients 0 and 1. N=20 Jackknife bins\")"
   ]
  },
  {
   "cell_type": "code",
   "execution_count": null,
   "metadata": {},
   "outputs": [],
   "source": [
    "len(plaquette_data_0[\"5.05 0\"])"
   ]
  },
  {
   "cell_type": "code",
   "execution_count": null,
   "metadata": {},
   "outputs": [],
   "source": [
    "wilson_action.create_integral_figure_jackknife(jackknife_func_0,jackknife_func_1,False)"
   ]
  },
  {
   "cell_type": "markdown",
   "metadata": {},
   "source": [
    "# FS reweighting"
   ]
  },
  {
   "cell_type": "code",
   "execution_count": null,
   "metadata": {},
   "outputs": [],
   "source": [
    "len(plaquette_data_twist)"
   ]
  },
  {
   "cell_type": "markdown",
   "metadata": {},
   "source": [
    "                                   column=\"sum\",\n",
    "                                   bins=10,\n",
    "                                   system_size=\"#1*44^2*64*6*6\",\n",
    "                                   min_b = 10.75,\n",
    "                                   max_b=10.85,\n",
    "                                   acc=0.001,\n",
    "                                   thermalization_range=(1000,120000))\n",
    "\n",
    "                                   column=\"sum\",\n",
    "                                   bins=5,\n",
    "                                   system_size=\"#1*8^2*40*2*6\",\n",
    "                                   min_b = 5.06,\n",
    "                                   max_b=5.18,\n",
    "                                   acc=0.001,\n",
    "                                   thermalization_range=(1000,-1))                                   "
   ]
  },
  {
   "cell_type": "code",
   "execution_count": null,
   "metadata": {},
   "outputs": [],
   "source": [
    "reweight_0 = utility.compute_with_fsh_jackknife(plaquette_data_0,\n",
    "                                   column=\"sum\",\n",
    "                                   bins=5,\n",
    "                                   system_size=\"#1*44^2*64*6*6\",\n",
    "                                   min_b = 10.75,\n",
    "                                   max_b=10.9,\n",
    "                                   acc=0.001,\n",
    "                                   thermalization_range=(1000,120000))       "
   ]
  },
  {
   "cell_type": "code",
   "execution_count": null,
   "metadata": {},
   "outputs": [],
   "source": [
    "reweight_1 = utility.compute_with_fsh_jackknife(plaquette_data_1,\n",
    "                                   column=\"sum\",\n",
    "                                   bins=5,\n",
    "                                   system_size=\"#1*44^2*64*6*6\",\n",
    "                                   min_b = 10.75,\n",
    "                                   max_b=10.9,\n",
    "                                   acc=0.001,\n",
    "                                   thermalization_range=(1000,120000))   "
   ]
  },
  {
   "cell_type": "code",
   "execution_count": null,
   "metadata": {},
   "outputs": [],
   "source": [
    "reweight_2 = utility.compute_with_fsh_jackknife(plaquette_data_2,\n",
    "                                   column=\"sum\",\n",
    "                                   bins=5,\n",
    "                                   system_size=\"#1*44^2*64*6*6\",\n",
    "                                   min_b = 10.75,\n",
    "                                   max_b=10.9,\n",
    "                                   acc=0.001,\n",
    "                                   thermalization_range=(1000,120000))   "
   ]
  },
  {
   "cell_type": "code",
   "execution_count": null,
   "metadata": {},
   "outputs": [],
   "source": [
    "read_and_write.write_reweight_data(reweight_1,\"./output_sun3_reweighted/8_8_20_5.06-5.18_1_5.txt\")"
   ]
  },
  {
   "cell_type": "code",
   "execution_count": 7,
   "metadata": {},
   "outputs": [],
   "source": [
    "import numpy as np\n",
    "#reweight_0 = read_and_write.read_reweight_data(\"./output_sun4_reweighted/18_18_28_10.75-10.85_0_5.txt\")\n",
    "#reweight_1 = read_and_write.read_reweight_data(\"./output_sun4_reweighted/18_18_28_10.75-10.85_1_5.txt\")\n",
    "#\n",
    "#reweight_0 = read_and_write.read_reweight_data(\"./output_sun4_reweighted/24_24_36_10.75-10.85_0_5.txt\")\n",
    "#reweight_1 = read_and_write.read_reweight_data(\"./output_sun4_reweighted/24_24_36_10.75-10.85_1_5.txt\")\n",
    "#reweight_2 = read_and_write.read_reweight_data(\"./output_sun4_reweighted/24_24_36_10.75-10.85_2_5.txt\")\n",
    "reweight_0 = read_and_write.read_reweight_data(\"../data/output-sun4-reweighted/32_32_48_10.75-10.85_0_5.txt\")\n",
    "reweight_1 = read_and_write.read_reweight_data(\"../data/output-sun4-reweighted/32_32_48_10.75-10.85_1_5.txt\")\n",
    "#reweight_0 = read_and_write.read_reweight_data(\"../data/output-sun4-reweighted/44_44_64_10.75-10.85_0_5.txt\")\n",
    "#reweight_1 = read_and_write.read_reweight_data(\"../data/output-sun4-reweighted/44_44_64_10.75-10.85_1_5.txt\")\n",
    "#reweight_2 = read_and_write.read_reweight_data(\"../data/output-sun4-reweighted/44_44_64_10.75-10.85_2_5.txt\")\n"
   ]
  },
  {
   "cell_type": "code",
   "execution_count": null,
   "metadata": {},
   "outputs": [],
   "source": [
    "wilson_action.create_average_action_figure_jackknife(reweight_0,\"notwist\",reweight_1,\"twist\",FS=False,fig_text=r\"M=5 Jackknife bins\")"
   ]
  },
  {
   "cell_type": "code",
   "execution_count": null,
   "metadata": {},
   "outputs": [],
   "source": [
    "wilson_action.create_twist_notwist_difference_figure_jackknife(reweight_0,[(reweight_1,\"$z_1$\"),(reweight_2,\"$z_2$\")],FS=False,fig_text=r\"M=5 Jackknife bins\")"
   ]
  },
  {
   "cell_type": "code",
   "execution_count": null,
   "metadata": {},
   "outputs": [],
   "source": [
    "wilson_action.create_integral_figure_jackknife(reweight_0,[(reweight_1,\"$z_1$\"),(reweight_2,\"$z_2$\")],dim=(44,44,64,6),N=5,FS=False,fig_text=r\"M=5 Jackknife bins\")"
   ]
  },
  {
   "cell_type": "code",
   "execution_count": null,
   "metadata": {},
   "outputs": [],
   "source": [
    "wilson_action.create_integral_figure_ratio(reweight_0,[(reweight_1,\"$z_1$\"),(reweight_2,\"$z_2$\")],dim=(44,44,64,6),N=5,FS=False,fig_text=\"M=5 Jackknife bins\")"
   ]
  },
  {
   "cell_type": "code",
   "execution_count": null,
   "metadata": {},
   "outputs": [],
   "source": [
    "wilson_action.convert_beta_to_T([10.787],10.787)\n"
   ]
  },
  {
   "cell_type": "markdown",
   "metadata": {},
   "source": [
    "# Amplitude changes\n",
    "\n",
    "$\\bar{S}(\\beta) = S_{t=2}(\\beta) - S_{t=1}(\\beta)$\n",
    "\n",
    "$\\mathcal{A} = \\max(\\overline{S}(\\beta))$\n",
    "\n",
    "$A = |\\min(\\overline{S}'(\\beta))-\\max(\\overline{S}'(\\beta))$\n",
    "\n",
    "For system size $32,32,48,6$: $\\mathcal{A} = 0.16392535755242216$ and $A= 0.014999999999998792$\n",
    "\n"
   ]
  },
  {
   "cell_type": "code",
   "execution_count": null,
   "metadata": {},
   "outputs": [],
   "source": [
    "wilson_action.create_amplitude_graph(reweight_0,reweight_1,extra=40)"
   ]
  },
  {
   "cell_type": "markdown",
   "metadata": {},
   "source": [
    "N_t = 6\n",
    "N_x = 32\n",
    "N_y = 32\n",
    "N_z = 48"
   ]
  },
  {
   "cell_type": "markdown",
   "metadata": {},
   "source": [
    "(0.014999999999998792, 0.1609829529899296, 10.787, 10.802)"
   ]
  },
  {
   "cell_type": "markdown",
   "metadata": {},
   "source": [
    "# Autocorrelation"
   ]
  },
  {
   "cell_type": "code",
   "execution_count": null,
   "metadata": {},
   "outputs": [],
   "source": [
    "#plaquette_0_subset = utility.select_subset(plaquette_data_0,8,13)\n",
    "plaquette_1_subset = utility.select_subset(plaquette_data_1,7,19)\n",
    "plaquette_2_subset = utility.select_subset(plaquette_data_2,7,19)\n"
   ]
  },
  {
   "cell_type": "code",
   "execution_count": null,
   "metadata": {},
   "outputs": [],
   "source": [
    "#print(pd.DataFrame.from_dict(utility.compute_with_aa_autocorrelation(plaquette_0_subset,thermalization=0),orient='index'))\n",
    "wilson_action.plot_action_series(plaquette_1_subset,cols=1,series_range=(1000,120000))"
   ]
  },
  {
   "cell_type": "code",
   "execution_count": null,
   "metadata": {},
   "outputs": [],
   "source": [
    "print(pd.DataFrame.from_dict(utility.compute_with_aa_autocorrelation(plaquette_2_subset,thermalization=0),orient='index'))\n",
    "wilson_action.plot_action_series(plaquette_2_subset,cols=1,series_range=(1000,120000))"
   ]
  },
  {
   "cell_type": "code",
   "execution_count": null,
   "metadata": {},
   "outputs": [],
   "source": [
    "print(pd.DataFrame.from_dict(utility.compute_with_aa_autocorrelation(plaquette_data_2,thermalization=0),orient='index'))\n",
    "wilson_action.plot_action_series(plaquette_data_2,cols=1,series_range=(30000,40000))"
   ]
  },
  {
   "cell_type": "markdown",
   "metadata": {},
   "source": [
    "$<S>*N*6/(X*Y)$"
   ]
  },
  {
   "cell_type": "markdown",
   "metadata": {},
   "source": [
    "# Plot integral ontop"
   ]
  },
  {
   "cell_type": "code",
   "execution_count": null,
   "metadata": {},
   "outputs": [],
   "source": [
    "from scipy import integrate\n",
    "import matplotlib.pyplot as plt\n",
    "import numpy as np\n",
    "data_1_0 = read_and_write.read_reweight_data(\"./output_sun4_reweighted/18_18_28_10.75-10.85_0_5.txt\")\n",
    "data_1_1 = read_and_write.read_reweight_data(\"./output_sun4_reweighted/18_18_28_10.75-10.85_1_5.txt\")\n",
    "data_2_0 = read_and_write.read_reweight_data(\"./output_sun4_reweighted/24_24_36_10.75-10.85_0_5.txt\")\n",
    "data_2_1 = read_and_write.read_reweight_data(\"./output_sun4_reweighted/24_24_36_10.75-10.85_1_5.txt\")\n",
    "data_3_0 = read_and_write.read_reweight_data(\"./output_sun4_reweighted/32_32_48_10.75-10.85_0_5.txt\")\n",
    "data_3_1 = read_and_write.read_reweight_data(\"./output_sun4_reweighted/32_32_48_10.75-10.85_1_5.txt\")\n",
    "data_4_0 = read_and_write.read_reweight_data(\"./output_sun4_reweighted/44_44_64_10.75-10.85_0_5.txt\")\n",
    "data_4_1 = read_and_write.read_reweight_data(\"./output_sun4_reweighted/44_44_64_10.75-10.85_1_5.txt\")\n",
    "listed = [(data_1_0,data_1_1,(18,18,28,6)),(data_2_0,data_2_1,(24,24,36,6)),(data_3_0,data_3_1,(32,32,48,6)),(data_4_0,data_4_1,(44,44,64,6))]\n",
    "#data_1_0 = read_and_write.read_reweight_data(\"./output_sun3_reweighted/8_8_20_5.06-5.18_0_5.txt\")\n",
    "#data_1_1 = read_and_write.read_reweight_data(\"./output_sun3_reweighted/8_8_20_5.06-5.18_1_5.txt\")\n",
    "#data_2_0 = read_and_write.read_reweight_data(\"./output_sun3_reweighted/8_8_40_5.06-5.18_0_5.txt\")\n",
    "#data_2_1 = read_and_write.read_reweight_data(\"./output_sun3_reweighted/8_8_40_5.06-5.18_1_5.txt\")\n",
    "#listed = [(data_1_0,data_1_1,(8,8,40,2)),(data_2_0,data_2_1,(8,8,40,2))]\n",
    "N = 5\n",
    "x_volume = []\n",
    "y_volume = []\n",
    "plt.figure(figsize=(8,6))\n",
    "for (notwist,twist,dim) in listed:\n",
    "    integrated_ys = []\n",
    "    difference = twist[1] - notwist[1]\n",
    "    #print(integrated_ys)\n",
    "    y_mean = np.mean(difference,axis=0)\n",
    "    errors= np.zeros(len(notwist[0]))\n",
    "    for block in difference:\n",
    "        errors += (block - y_mean)**2\n",
    "    errors = np.sqrt((N-1)/N*errors)\n",
    "    #print(y_mean)\n",
    "    volume=dim[0]*dim[1]*dim[2]*dim[3]\n",
    "    x = notwist[0]\n",
    "    scale = volume*6/(dim[0]*dim[1])\n",
    "    plt.plot(x,scale*y_mean,label=f\"{dim[0]},{dim[1]},{dim[2]},{dim[3]}\")\n",
    "    plt.fill_between(x,scale*(y_mean-errors),scale*(y_mean+errors),alpha=0.4)\n",
    "plt.xlabel(r'$\\beta$')\n",
    "plt.ylabel(r'$\\langle S_{t} - S_{nt} \\rangle/(N_0\\cdot N_1)$')\n",
    "#plt.title(r'Integral of difference between twist and no-twist wilson action')\n",
    "plt.legend()\n",
    "plt.savefig(\"difference.svg\")"
   ]
  },
  {
   "cell_type": "code",
   "execution_count": null,
   "metadata": {},
   "outputs": [],
   "source": [
    "from scipy import integrate\n",
    "import matplotlib.pyplot as plt\n",
    "import numpy as np\n",
    "data_1_0 = read_and_write.read_reweight_data(\"./output_sun4_reweighted/18_18_28_10.75-10.85_0_5.txt\")\n",
    "data_1_1 = read_and_write.read_reweight_data(\"./output_sun4_reweighted/18_18_28_10.75-10.85_1_5.txt\")\n",
    "data_2_0 = read_and_write.read_reweight_data(\"./output_sun4_reweighted/24_24_36_10.75-10.85_0_5.txt\")\n",
    "data_2_1 = read_and_write.read_reweight_data(\"./output_sun4_reweighted/24_24_36_10.75-10.85_1_5.txt\")\n",
    "data_3_0 = read_and_write.read_reweight_data(\"./output_sun4_reweighted/32_32_48_10.75-10.85_0_5.txt\")\n",
    "data_3_1 = read_and_write.read_reweight_data(\"./output_sun4_reweighted/32_32_48_10.75-10.85_1_5.txt\")\n",
    "data_4_0 = read_and_write.read_reweight_data(\"./output_sun4_reweighted/44_44_64_10.75-10.85_0_5.txt\")\n",
    "data_4_1 = read_and_write.read_reweight_data(\"./output_sun4_reweighted/44_44_64_10.75-10.85_1_5.txt\")\n",
    "listed = [(data_1_0,data_1_1,(18,18,28,6)),(data_2_0,data_2_1,(24,24,36,6)),(data_3_0,data_3_1,(32,32,48,6)),(data_4_0,data_4_1,(44,44,64,6))]\n",
    "N = 5\n",
    "x_volume = []\n",
    "y_volume = []\n",
    "y_volume_err = []\n",
    "plt.figure(figsize=(8,6))\n",
    "for (notwist,twist,dim) in listed:\n",
    "    integrated_ys = []\n",
    "    for (y_notwist,y_twist) in zip(notwist[1],twist[1]):\n",
    "        x=notwist[0]\n",
    "        y = y_twist-y_notwist\n",
    "        #print(y_twist)\n",
    "        y_int = integrate.cumtrapz(y,x,initial=0)\n",
    "        integrated_ys.append(y_int)\n",
    "        #y_int = integrate.simpson(y,x)\n",
    "    #print(integrated_ys)\n",
    "    y_mean = np.mean(integrated_ys,axis=0)\n",
    "    errors= np.zeros(len(notwist[0]))\n",
    "    for block in integrated_ys:\n",
    "        errors += (block - y_mean)**2\n",
    "    errors = np.sqrt((N-1)/N*errors)\n",
    "    #print(y_mean)\n",
    "    volume=dim[0]*dim[1]*dim[2]*dim[3]\n",
    "\n",
    "    #plt.errorbar(x,volume*6/(dim[0]*dim[1])*y_mean,yerr=errors*volume*6/(dim[0]*dim[1]),label=f\"{dim[0]},{dim[1]},{dim[2]},{dim[3]}\")\n",
    "    plt.plot(x,volume*6*dim[3]**2/(dim[0]*dim[1])*y_mean,label=f\"{dim[0]},{dim[1]},{dim[2]},{dim[3]}\")\n",
    "    plt.fill_between(x,volume*6*dim[3]**2/(dim[0]*dim[1])*(y_mean-errors),volume*6*dim[3]**2/(dim[0]*dim[1])*(y_mean+errors),alpha=0.4)\n",
    "\n",
    "plt.xlabel(r'$\\beta$')\n",
    "plt.ylabel(r'$\\alpha_{o-o}/T^3$')\n",
    "#plt.title(r'Integral of difference between twist and no-twist wilson action')\n",
    "plt.legend()\n",
    "plt.savefig(\"integral.svg\")"
   ]
  },
  {
   "cell_type": "code",
   "execution_count": null,
   "metadata": {},
   "outputs": [],
   "source": [
    "T = wilson_action.convert_beta_to_T(reweight_0[0])\n",
    "(beta_1)"
   ]
  },
  {
   "cell_type": "code",
   "execution_count": null,
   "metadata": {},
   "outputs": [],
   "source": [
    "print(x_volume)\n",
    "x = [18,24,32,44]\n",
    "for i in range(len(x_volume)-1):\n",
    "    print(x_volume[i+1]/x_volume[i])\n",
    "print(y_volume)\n",
    "print(y_volume_err)\n",
    "plt.plot(1/np.array(x_volume),np.array(y_volume))\n",
    "plt.xlabel(\"1/A\")\n",
    "plt.ylabel(r'$\\frac{V}{X*Y}\\int d\\beta \\langle S_{t} - S_{nt} \\rangle $')\n",
    "#plt.title(r\"Interface tension with respect to inverse of interface area at $\\beta = 10.85$\")\n",
    "plt.savefig(\"inverse_area.svg\")"
   ]
  },
  {
   "cell_type": "code",
   "execution_count": null,
   "metadata": {},
   "outputs": [],
   "source": [
    "from scipy import integrate\n",
    "import matplotlib.pyplot as plt\n",
    "import numpy as np\n",
    "\n",
    "data = [[plaquette_data_0,\"SU(3)\",errors]]\n",
    "for i,(datas,name,errors) in enumerate(data):\n",
    "    average_datas = {}\n",
    "    for simulation in datas:\n",
    "        average_sum = datas[simulation]['sum'].to_numpy().astype(float)\n",
    "        average_datas[simulation] = average_sum[1000:].mean()\n",
    "    data[i][0] = average_datas\n",
    "for (datas,name,errors) in data:\n",
    "    x = [float(x.split()[0]) for x in list(datas.keys())]\n",
    "    y = list(datas.values())\n",
    "    if (errors == None):\n",
    "        plt.plot(x,y,'o--',label=name)\n",
    "    else:\n",
    "        error = []\n",
    "        for key in datas.keys():\n",
    "            error.append(float(errors[key][\"error\"].iloc[-1]))\n",
    "        plt.errorbar(x,y,yerr=error,fmt='o-',ecolor=\"r\",label=name)\n",
    "    #plt.xticks([float(x) for x in datas[0].head()[1:-1]])\n",
    "\n",
    "#plt.title(r'Wilson action total average with respect to $\\beta$')\n",
    "plt.xlabel(r'$\\beta$')\n",
    "plt.ylabel(r'$\\langle$ S $\\rangle$')\n",
    "plt.legend()\n",
    "plt.savefig('./output.svg') "
   ]
  },
  {
   "cell_type": "markdown",
   "metadata": {},
   "source": []
  }
 ],
 "metadata": {
  "kernelspec": {
   "display_name": "env",
   "language": "python",
   "name": "python3"
  },
  "language_info": {
   "codemirror_mode": {
    "name": "ipython",
    "version": 3
   },
   "file_extension": ".py",
   "mimetype": "text/x-python",
   "name": "python",
   "nbconvert_exporter": "python",
   "pygments_lexer": "ipython3",
   "version": "3.10.12"
  },
  "orig_nbformat": 4
 },
 "nbformat": 4,
 "nbformat_minor": 2
}
