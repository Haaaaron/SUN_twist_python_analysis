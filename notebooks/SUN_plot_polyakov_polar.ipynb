{
 "cells": [
  {
   "cell_type": "code",
   "execution_count": null,
   "metadata": {},
   "outputs": [],
   "source": [
    "%load_ext autoreload\n",
    "%autoreload 2\n",
    "from modules import read_and_write\n",
    "from modules import polyakov\n",
    "from modules import utility\n",
    "from modules import fourier_surface\n",
    "import os\n",
    "import glob"
   ]
  },
  {
   "cell_type": "code",
   "execution_count": null,
   "metadata": {},
   "outputs": [],
   "source": [
    "#df_1 = read_and_write.load_from_folder(\"./output_measure_surface/su4_44_44_64_6/beta_10.9\",\"polyakov:\", \"complex\")\n",
    "#df_2 = read_and_write.load_from_folder(\"./output_measure_surface/su4\",\"PRO 1 Origin polyakov smeared:\", \"complex\")\n",
    "#df_3 = read_and_write.load_from_folder(\"./output_measure_surface/su4\",\"PRO 1 Average polyakov smeared:\", \"complex\")\n",
    "#df_4 = read_and_write.load_from_folder(\"./output_measure_surface/su6\",\"Min:\", \"real\")\n",
    "#volume, surface_smooth = read_and_write.read_surface_data(\"./output_measure_surface/su4_surface_data\")\n",
    "#volume, fourier_profile = read_and_write.read_surface_data(\"./output_measure_surface/su4_surface_data\", \"fourier_profile\")\n",
    "#surface_discrete = read_and_write.read_3d_surface(\"./output_measure_surface/su4_surface_data\",\"surface_discrete\")\n"
   ]
  },
  {
   "cell_type": "code",
   "execution_count": null,
   "metadata": {},
   "outputs": [],
   "source": [
    "#print(df_1[\"10 1\"])\n",
    "#df = df_1[\"16 1\"].drop(columns=['sum']).iloc[990:,:]\n",
    "df = df_2[\"16 1\"].iloc[:,:]\n",
    "polyakov.animate_polar(df)\n",
    "#df"
   ]
  },
  {
   "cell_type": "code",
   "execution_count": null,
   "metadata": {},
   "outputs": [],
   "source": [
    "# def parse_to_complex(tuple_str):\n",
    "#     real, imag = ast.literal_eval(tuple_str)\n",
    "#     return complex(real, imag)\n",
    "\n",
    "# # Use pandas read_csv with a custom converter for the tuples to complex numbers\n",
    "# file_path = './input.txt'  # Replace with your file path\n",
    "\n",
    "\n",
    "# with open(file_path, 'r') as file:\n",
    "#     csv_data = file.read()\n",
    "    \n",
    "# df = pd.read_csv(\n",
    "#     \"./input.txt\",\n",
    "#     sep=' ',\n",
    "#     header=None,\n",
    "#     names=['Label', 'Something', 'z-index', 'Area average', 'Origin'],\n",
    "#     converters={'Area average': parse_to_complex, 'Origin': parse_to_complex}\n",
    "# )\n",
    "# z_index = df[\"z-index\"].values\n",
    "# area_average = df[\"Area average\"].values\n",
    "# origin = df[\"Origin\"].values\n",
    "\n",
    "#df_yes = df_4[\"10 1\"][\"ind\"] == 25\n",
    "df_1 = df_1[\"13 2\"].drop(columns=['sum'])\n",
    "df_2 = df_2[\"13 2\"]\n",
    "df_3 = df_3[\"13 2\"]\n",
    "\n",
    "polyakov_z_index = df_1.iloc[-1].values\n",
    "origin = df_2.iloc[-1].values\n",
    "area_average = df_3.iloc[-1].values\n",
    "z_index = df_3.columns\n",
    "#polar_plot(area_average,z_index,title=\"Average z-index smeared\")\n",
    "#polar_plot(origin,z_index,title=\"z-index origin smeared\")\n",
    "#polar_plot(polyakov_z_index,z_index,title=\"Average z-index\")\n",
    "polyakov.create_figure_polar_zindex(df_1)\n"
   ]
  },
  {
   "cell_type": "code",
   "execution_count": null,
   "metadata": {},
   "outputs": [],
   "source": []
  }
 ],
 "metadata": {
  "kernelspec": {
   "display_name": "env",
   "language": "python",
   "name": "python3"
  },
  "language_info": {
   "name": "python",
   "version": "3.10.12"
  }
 },
 "nbformat": 4,
 "nbformat_minor": 2
}
