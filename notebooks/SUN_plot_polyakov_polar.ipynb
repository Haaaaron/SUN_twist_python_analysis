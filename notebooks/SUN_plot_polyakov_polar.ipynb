{
 "cells": [
  {
   "cell_type": "code",
   "execution_count": 1,
   "metadata": {},
   "outputs": [],
   "source": [
    "%load_ext autoreload\n",
    "%autoreload 2\n",
    "from pylat import read_and_write\n",
    "from pylat import polyakov\n",
    "from pylat import utility\n",
    "from pylat import fourier_surface\n",
    "import os\n",
    "import glob"
   ]
  },
  {
   "cell_type": "code",
   "execution_count": 1,
   "metadata": {},
   "outputs": [
    {
     "ename": "ImportError",
     "evalue": "cannot import name 'globals' from 'modules' (unknown location)",
     "output_type": "error",
     "traceback": [
      "\u001b[0;31m---------------------------------------------------------------------------\u001b[0m",
      "\u001b[0;31mImportError\u001b[0m                               Traceback (most recent call last)",
      "Cell \u001b[0;32mIn[1], line 1\u001b[0m\n\u001b[0;32m----> 1\u001b[0m \u001b[38;5;28;01mfrom\u001b[39;00m \u001b[38;5;21;01mmodules\u001b[39;00m \u001b[38;5;28;01mimport\u001b[39;00m \u001b[38;5;28mglobals\u001b[39m\n\u001b[1;32m      2\u001b[0m folders \u001b[38;5;241m=\u001b[39m utility\u001b[38;5;241m.\u001b[39mlist_all_folders(\u001b[38;5;28mglobals\u001b[39m\u001b[38;5;241m.\u001b[39mdata_path_su3,\u001b[38;5;124m\"\u001b[39m\u001b[38;5;124mtraj\u001b[39m\u001b[38;5;124m\"\u001b[39m)\n",
      "\u001b[0;31mImportError\u001b[0m: cannot import name 'globals' from 'modules' (unknown location)"
     ]
    }
   ],
   "source": [
    "from modules import globals\n",
    "folders = utility.list_all_folders(globals.data_path_su3,\"traj\")"
   ]
  },
  {
   "cell_type": "code",
   "execution_count": null,
   "metadata": {},
   "outputs": [
    {
     "name": "stdout",
     "output_type": "stream",
     "text": [
      "Data array shape: (996, 41)\n",
      "First row of data: [3.16726559 3.31039539 3.65244911 3.82683226 3.88806095 3.94704449\n",
      " 4.06134632 3.96083203 4.04013893 3.93936208 3.99556224 3.98333688\n",
      " 4.03840642 4.03920993 3.92202092 3.97025894 4.05376068 3.99293394\n",
      " 3.85986667 3.90538125 3.97876984 4.00723311 3.89370589 3.95842587\n",
      " 3.99659236 3.9048169  3.99957206 4.01127832 3.92012885 3.89977597\n",
      " 3.95904106 3.87042224 3.77664785 3.57688432 2.42315117 2.86781069\n",
      " 3.21175644 3.4801024  3.58480733 3.4498271  2.04343359]\n"
     ]
    },
    {
     "data": {
      "text/plain": [
       "array([3.16726559, 3.31039539, 3.65244911, 3.82683226, 3.88806095,\n",
       "       3.94704449, 4.06134632, 3.96083203, 4.04013893, 3.93936208,\n",
       "       3.99556224, 3.98333688, 4.03840642, 4.03920993, 3.92202092,\n",
       "       3.97025894, 4.05376068, 3.99293394, 3.85986667, 3.90538125,\n",
       "       3.97876984, 4.00723311, 3.89370589, 3.95842587, 3.99659236,\n",
       "       3.9048169 , 3.99957206, 4.01127832, 3.92012885, 3.89977597,\n",
       "       3.95904106, 3.87042224, 3.77664785, 3.57688432, 2.42315117,\n",
       "       2.86781069, 3.21175644, 3.4801024 , 3.58480733, 3.4498271 ,\n",
       "       2.04343359])"
      ]
     },
     "execution_count": 14,
     "metadata": {},
     "output_type": "execute_result"
    }
   ],
   "source": [
    "#choose_folder = 1\n",
    "#folder = folders[choose_folder]\n",
    "folder = \"/home/haaaaron/suN-gauge-twist-surface\"\n",
    "#name, df_1 = read_and_write.load_data_file_complex(folder+\"/out.txt\",\"PRO 0 Origin polyakov smeared:\")\n",
    "name, data = read_and_write.load_data_file_complex(folder+\"/out.txt\",\"polyakov z:\",delim=\",\",dim=2)\n",
    "#name, data = read_and_write.load_data_file_real(folder+\"/out.txt\",\"polyakov abs z:\",delim=\",\",dim=2)\n",
    "\n",
    "data[0]"
   ]
  },
  {
   "cell_type": "code",
   "execution_count": 15,
   "metadata": {},
   "outputs": [],
   "source": [
    "polyakov.animate_polar(data,frame_step=1)\n"
   ]
  },
  {
   "cell_type": "code",
   "execution_count": 17,
   "metadata": {},
   "outputs": [
    {
     "ename": "IndexError",
     "evalue": "only integers, slices (`:`), ellipsis (`...`), numpy.newaxis (`None`) and integer or boolean arrays are valid indices",
     "output_type": "error",
     "traceback": [
      "\u001b[0;31m---------------------------------------------------------------------------\u001b[0m",
      "\u001b[0;31mIndexError\u001b[0m                                Traceback (most recent call last)",
      "Cell \u001b[0;32mIn[17], line 3\u001b[0m\n\u001b[1;32m      1\u001b[0m \u001b[38;5;66;03m#print(df_1[\"10 1\"])\u001b[39;00m\n\u001b[1;32m      2\u001b[0m \u001b[38;5;66;03m#df = df_1[\"16 1\"].drop(columns=['sum']).iloc[990:,:]\u001b[39;00m\n\u001b[0;32m----> 3\u001b[0m df \u001b[38;5;241m=\u001b[39m \u001b[43mdf_1\u001b[49m\u001b[43m[\u001b[49m\u001b[38;5;124;43m\"\u001b[39;49m\u001b[38;5;124;43m16 1\u001b[39;49m\u001b[38;5;124;43m\"\u001b[39;49m\u001b[43m]\u001b[49m\u001b[38;5;241m.\u001b[39miloc[:,:]\n\u001b[1;32m      4\u001b[0m polyakov\u001b[38;5;241m.\u001b[39manimate_polar(df)\n",
      "\u001b[0;31mIndexError\u001b[0m: only integers, slices (`:`), ellipsis (`...`), numpy.newaxis (`None`) and integer or boolean arrays are valid indices"
     ]
    }
   ],
   "source": [
    "#print(df_1[\"10 1\"])\n",
    "#df = df_1[\"16 1\"].drop(columns=['sum']).iloc[990:,:]\n",
    "df = df_1[\"16 1\"].iloc[:,:]\n",
    "polyakov.animate_polar(df)\n"
   ]
  },
  {
   "cell_type": "code",
   "execution_count": null,
   "metadata": {},
   "outputs": [],
   "source": [
    "# def parse_to_complex(tuple_str):\n",
    "#     real, imag = ast.literal_eval(tuple_str)\n",
    "#     return complex(real, imag)\n",
    "\n",
    "# # Use pandas read_csv with a custom converter for the tuples to complex numbers\n",
    "# file_path = './input.txt'  # Replace with your file path\n",
    "\n",
    "\n",
    "# with open(file_path, 'r') as file:\n",
    "#     csv_data = file.read()\n",
    "    \n",
    "# df = pd.read_csv(\n",
    "#     \"./input.txt\",\n",
    "#     sep=' ',\n",
    "#     header=None,\n",
    "#     names=['Label', 'Something', 'z-index', 'Area average', 'Origin'],\n",
    "#     converters={'Area average': parse_to_complex, 'Origin': parse_to_complex}\n",
    "# )\n",
    "# z_index = df[\"z-index\"].values\n",
    "# area_average = df[\"Area average\"].values\n",
    "# origin = df[\"Origin\"].values\n",
    "\n",
    "#df_yes = df_4[\"10 1\"][\"ind\"] == 25\n",
    "# df_1 = df_1[\"13 2\"].drop(columns=['sum'])\n",
    "# df_2 = df_2[\"13 2\"]\n",
    "# df_3 = df_3[\"13 2\"]\n",
    "\n",
    "# polyakov_z_index = df_1.iloc[-1].values\n",
    "# origin = df_2.iloc[-1].values\n",
    "# area_average = df_3.iloc[-1].values\n",
    "# z_index = df_3.columns\n",
    "#polar_plot(area_average,z_index,title=\"Average z-index smeared\")\n",
    "#polar_plot(origin,z_index,title=\"z-index origin smeared\")\n",
    "#polar_plot(polyakov_z_index,z_index,title=\"Average z-index\")\n",
    "polyakov.create_figure_polar_zindex(df_1)\n"
   ]
  },
  {
   "cell_type": "code",
   "execution_count": null,
   "metadata": {},
   "outputs": [],
   "source": [
    "import matplotlib.pyplot as plt\n",
    "\n",
    "plt.close('all')"
   ]
  },
  {
   "cell_type": "code",
   "execution_count": null,
   "metadata": {},
   "outputs": [],
   "source": []
  }
 ],
 "metadata": {
  "kernelspec": {
   "display_name": "sun-env",
   "language": "python",
   "name": "python3"
  },
  "language_info": {
   "codemirror_mode": {
    "name": "ipython",
    "version": 3
   },
   "file_extension": ".py",
   "mimetype": "text/x-python",
   "name": "python",
   "nbconvert_exporter": "python",
   "pygments_lexer": "ipython3",
   "version": "3.12.3"
  }
 },
 "nbformat": 4,
 "nbformat_minor": 2
}
