{
 "cells": [
  {
   "cell_type": "code",
   "execution_count": 20,
   "metadata": {},
   "outputs": [],
   "source": [
    "%load_ext autoreload\n",
    "%autoreload 2\n",
    "from modules import read_and_write"
   ]
  },
  {
   "cell_type": "code",
   "execution_count": 22,
   "metadata": {},
   "outputs": [
    {
     "name": "stdout",
     "output_type": "stream",
     "text": [
      "./current_output/notwist/suN_5.082020202020202\n",
      "./current_output/notwist/suN_5.087272727272727\n",
      "./current_output/notwist/suN_5.085656565656565\n",
      "./current_output/notwist/suN_5.09979797979798\n",
      "./current_output/notwist/suN_5.09939393939394\n",
      "./current_output/notwist/suN_5.097373737373737\n",
      "./current_output/notwist/suN_5.103434343434343\n",
      "./current_output/notwist/suN_5.097777777777778\n",
      "./current_output/notwist/suN_5.108282828282828\n",
      "./current_output/notwist/suN_5.086464646464647\n",
      "./current_output/notwist/suN_5.085252525252526\n",
      "./current_output/notwist/suN_5.088080808080808\n",
      "./current_output/notwist/suN_5.092121212121212\n",
      "./current_output/notwist/suN_5.112727272727273\n",
      "./current_output/notwist/suN_5.090909090909091\n",
      "./current_output/notwist/suN_5.107070707070707\n",
      "./current_output/notwist/suN_5.114747474747475\n",
      "./current_output/notwist/suN_5.0913131313131315\n",
      "./current_output/notwist/suN_5.089292929292929\n",
      "./current_output/notwist/suN_5.109090909090909\n",
      "./current_output/notwist/suN_5.101818181818182\n",
      "./current_output/notwist/suN_5.0901010101010105\n",
      "./current_output/notwist/suN_5.098989898989899\n",
      "./current_output/notwist/suN_5.107878787878788\n",
      "./current_output/notwist/suN_5.113131313131313\n",
      "./current_output/notwist/suN_5.094545454545455\n",
      "./current_output/notwist/suN_5.114343434343435\n",
      "./current_output/notwist/suN_5.103838383838384\n",
      "./current_output/notwist/suN_5.088888888888889\n",
      "./current_output/notwist/suN_5.11030303030303\n",
      "./current_output/notwist/suN_5.096565656565657\n",
      "./current_output/notwist/suN_5.094949494949495\n",
      "./current_output/notwist/suN_5.105050505050505\n",
      "./current_output/notwist/suN_5.116363636363636\n",
      "./current_output/notwist/suN_5.116767676767677\n",
      "./current_output/notwist/suN_5.111919191919192\n",
      "./current_output/notwist/suN_5.095757575757576\n",
      "./current_output/notwist/suN_5.080404040404041\n",
      "./current_output/notwist/suN_5.082828282828283\n",
      "./current_output/notwist/suN_5.095353535353535\n",
      "./current_output/notwist/suN_5.084040404040404\n",
      "./current_output/notwist/suN_5.098585858585858\n",
      "./current_output/notwist/suN_5.084848484848485\n",
      "./current_output/notwist/suN_5.08\n",
      "./current_output/notwist/suN_5.100606060606061\n",
      "./current_output/notwist/suN_5.086868686868687\n",
      "./current_output/notwist/suN_5.081212121212121\n",
      "./current_output/notwist/suN_5.1171717171717175\n",
      "./current_output/notwist/suN_5.08080808080808\n",
      "./current_output/notwist/suN_5.106262626262627\n",
      "./current_output/notwist/suN_5.088484848484849\n",
      "./current_output/notwist/suN_5.10949494949495\n",
      "./current_output/notwist/suN_5.09050505050505\n",
      "./current_output/notwist/suN_5.083636363636364\n",
      "./current_output/notwist/suN_5.101010101010101\n",
      "./current_output/notwist/suN_5.1030303030303035\n",
      "./current_output/notwist/suN_5.111515151515151\n",
      "./current_output/notwist/suN_5.08969696969697\n",
      "./current_output/notwist/suN_5.101414141414142\n",
      "./current_output/notwist/suN_5.0937373737373735\n",
      "./current_output/notwist/suN_5.105858585858586\n"
     ]
    }
   ],
   "source": [
    "plaquette_data = read_and_write.load_from_folder(\"./current_output/notwist\",\"plaquette:\")"
   ]
  },
  {
   "cell_type": "code",
   "execution_count": 21,
   "metadata": {},
   "outputs": [
    {
     "name": "stdout",
     "output_type": "stream",
     "text": [
      "./current_output/notwist/suN_5.082020202020202\n"
     ]
    },
    {
     "ename": "IndexError",
     "evalue": "list index out of range",
     "output_type": "error",
     "traceback": [
      "\u001b[0;31m---------------------------------------------------------------------------\u001b[0m",
      "\u001b[0;31mIndexError\u001b[0m                                Traceback (most recent call last)",
      "Cell \u001b[0;32mIn[21], line 1\u001b[0m\n\u001b[0;32m----> 1\u001b[0m polyakov_data \u001b[39m=\u001b[39m read_and_write\u001b[39m.\u001b[39;49mload_from_folder(\u001b[39m\"\u001b[39;49m\u001b[39m./current_output/notwist\u001b[39;49m\u001b[39m\"\u001b[39;49m,\u001b[39m\"\u001b[39;49m\u001b[39mpolyakov:\u001b[39;49m\u001b[39m\"\u001b[39;49m)\n",
      "File \u001b[0;32m~/Documents/SUN_python_scripts/modules/read_and_write.py:50\u001b[0m, in \u001b[0;36mload_from_folder\u001b[0;34m(folder, data_line)\u001b[0m\n\u001b[1;32m     47\u001b[0m \u001b[39mfor\u001b[39;00m root,dirs,files \u001b[39min\u001b[39;00m os\u001b[39m.\u001b[39mwalk(folder):\n\u001b[1;32m     48\u001b[0m     \u001b[39mfor\u001b[39;00m name \u001b[39min\u001b[39;00m files:\n\u001b[1;32m     49\u001b[0m         \u001b[39m#print(os.path.join(root,name))\u001b[39;00m\n\u001b[0;32m---> 50\u001b[0m         name,data \u001b[39m=\u001b[39m load_data_file(os\u001b[39m.\u001b[39mpath\u001b[39m.\u001b[39mjoin(root,name), data_line)\n\u001b[1;32m     51\u001b[0m         \u001b[39m#data = data['sum'].to_numpy()\u001b[39;00m\n\u001b[1;32m     52\u001b[0m         \u001b[39m#columns = list(data.columns.values)\u001b[39;00m\n\u001b[1;32m     53\u001b[0m         \u001b[39m#columns = columns[-len(columns)//2:] + columns[:-len(columns)//2]\u001b[39;00m\n\u001b[0;32m   (...)\u001b[0m\n\u001b[1;32m     56\u001b[0m         \u001b[39m#data = data[50:]\u001b[39;00m\n\u001b[1;32m     57\u001b[0m         \u001b[39m#print(data)\u001b[39;00m\n\u001b[1;32m     58\u001b[0m         data_per_file[name] \u001b[39m=\u001b[39m data\n",
      "File \u001b[0;32m~/Documents/SUN_python_scripts/modules/read_and_write.py:31\u001b[0m, in \u001b[0;36mload_data_file\u001b[0;34m(file, data_line)\u001b[0m\n\u001b[1;32m     29\u001b[0m \u001b[39mfor\u001b[39;00m x \u001b[39min\u001b[39;00m numbers:\n\u001b[1;32m     30\u001b[0m     num \u001b[39m=\u001b[39m x\u001b[39m.\u001b[39msplit()\n\u001b[0;32m---> 31\u001b[0m     complex_converted\u001b[39m.\u001b[39mappend(\u001b[39mcomplex\u001b[39m(\u001b[39mfloat\u001b[39m(num[\u001b[39m0\u001b[39m]),\u001b[39mfloat\u001b[39m(num[\u001b[39m1\u001b[39;49m])))\n\u001b[1;32m     32\u001b[0m     \u001b[39m#complex(num[0])\u001b[39;00m\n\u001b[1;32m     33\u001b[0m data\u001b[39m.\u001b[39mappend(complex_converted)\n",
      "\u001b[0;31mIndexError\u001b[0m: list index out of range"
     ]
    }
   ],
   "source": [
    "polyakov_data = read_and_write.load_from_folder(\"./current_output/notwist\",\"polyakov:\")"
   ]
  },
  {
   "cell_type": "code",
   "execution_count": null,
   "metadata": {},
   "outputs": [],
   "source": []
  }
 ],
 "metadata": {
  "kernelspec": {
   "display_name": "Python 3",
   "language": "python",
   "name": "python3"
  },
  "language_info": {
   "codemirror_mode": {
    "name": "ipython",
    "version": 3
   },
   "file_extension": ".py",
   "mimetype": "text/x-python",
   "name": "python",
   "nbconvert_exporter": "python",
   "pygments_lexer": "ipython3",
   "version": "3.10.12"
  },
  "orig_nbformat": 4
 },
 "nbformat": 4,
 "nbformat_minor": 2
}
